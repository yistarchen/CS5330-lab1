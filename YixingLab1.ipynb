{
 "cells": [
  {
   "cell_type": "code",
   "execution_count": 1,
   "metadata": {},
   "outputs": [
    {
     "name": "stderr",
     "output_type": "stream",
     "text": [
      "/Library/Frameworks/Python.framework/Versions/3.12/lib/python3.12/site-packages/tqdm/auto.py:21: TqdmWarning: IProgress not found. Please update jupyter and ipywidgets. See https://ipywidgets.readthedocs.io/en/stable/user_install.html\n",
      "  from .autonotebook import tqdm as notebook_tqdm\n"
     ]
    },
    {
     "name": "stdout",
     "output_type": "stream",
     "text": [
      "Running on local URL:  http://127.0.0.1:7860\n",
      "Running on public URL: https://d520b46dfb2fa278d3.gradio.live\n",
      "\n",
      "This share link expires in 72 hours. For free permanent hosting and GPU upgrades, run `gradio deploy` from Terminal to deploy to Spaces (https://huggingface.co/spaces)\n"
     ]
    },
    {
     "data": {
      "text/html": [
       "<div><iframe src=\"https://d520b46dfb2fa278d3.gradio.live\" width=\"100%\" height=\"500\" allow=\"autoplay; camera; microphone; clipboard-read; clipboard-write;\" frameborder=\"0\" allowfullscreen></iframe></div>"
      ],
      "text/plain": [
       "<IPython.core.display.HTML object>"
      ]
     },
     "metadata": {},
     "output_type": "display_data"
    },
    {
     "data": {
      "text/plain": []
     },
     "execution_count": 1,
     "metadata": {},
     "output_type": "execute_result"
    }
   ],
   "source": [
    "import gradio as gr\n",
    "import cv2\n",
    "import numpy as np\n",
    "\n",
    "def convert_color_space(image):\n",
    "    converted_image = cv2.cvtColor(image, cv2.COLOR_BGR2HSV)\n",
    "    return converted_image\n",
    "\n",
    "def apply_threshold(image):\n",
    "    lower_blue = np.array([100, 40, 40])\n",
    "    upper_blue = np.array([140, 255, 255])\n",
    "    thresholded_image = cv2.inRange(image, lower_blue, upper_blue)\n",
    "    return thresholded_image\n",
    "\n",
    "def morphological_operations(mask):\n",
    "    kernel = np.ones((5,5), np.uint8)\n",
    "    closing = cv2.morphologyEx(mask, cv2.MORPH_CLOSE, kernel)\n",
    "    opening = cv2.morphologyEx(closing, cv2.MORPH_OPEN, kernel)\n",
    "    return opening\n",
    "\n",
    "def identify_sky_pixels(image):\n",
    "    hsv_image = convert_color_space(image)\n",
    "    thresholded = apply_threshold(hsv_image)\n",
    "    morphed = morphological_operations(thresholded)\n",
    "    sky_visualization = cv2.bitwise_and(image, image, mask=morphed)\n",
    "    return sky_visualization\n",
    "\n",
    "def process_image(image):\n",
    "    image = np.array(image)\n",
    "    image = cv2.cvtColor(image, cv2.COLOR_RGB2BGR)\n",
    "    processed_image = identify_sky_pixels(image)\n",
    "    processed_image = cv2.cvtColor(processed_image, cv2.COLOR_BGR2RGB)\n",
    "    return processed_image\n",
    "\n",
    "iface = gr.Interface(\n",
    "    fn=process_image,\n",
    "    inputs=gr.Image(),\n",
    "    outputs=gr.Image(),\n",
    "    title=\"Sky Pixel Identification\",\n",
    "    description=\"Upload an image to identify sky pixels.\"\n",
    ")\n",
    "\n",
    "iface.launch(share=True)"
   ]
  }
 ],
 "metadata": {
  "kernelspec": {
   "display_name": "Python 3",
   "language": "python",
   "name": "python3"
  },
  "language_info": {
   "codemirror_mode": {
    "name": "ipython",
    "version": 3
   },
   "file_extension": ".py",
   "mimetype": "text/x-python",
   "name": "python",
   "nbconvert_exporter": "python",
   "pygments_lexer": "ipython3",
   "version": "3.12.1"
  }
 },
 "nbformat": 4,
 "nbformat_minor": 2
}
